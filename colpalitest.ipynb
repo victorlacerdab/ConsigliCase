{
 "cells": [
  {
   "cell_type": "code",
   "execution_count": 1,
   "metadata": {},
   "outputs": [
    {
     "name": "stderr",
     "output_type": "stream",
     "text": [
      "/opt/homebrew/Caskroom/miniconda/base/envs/consigli/lib/python3.12/site-packages/tqdm/auto.py:21: TqdmWarning: IProgress not found. Please update jupyter and ipywidgets. See https://ipywidgets.readthedocs.io/en/stable/user_install.html\n",
      "  from .autonotebook import tqdm as notebook_tqdm\n"
     ]
    }
   ],
   "source": [
    "from PIL import Image\n",
    "from utils import config_dict, get_device, questions\n",
    "from vlm import Retriever, GenerationModel"
   ]
  },
  {
   "cell_type": "code",
   "execution_count": 2,
   "metadata": {},
   "outputs": [
    {
     "data": {
      "text/plain": [
       "[\"What was BMW's total revenue in 2023?\",\n",
       " 'How much revenue did Tesla generate in 2023?',\n",
       " \"What was Ford's revenue for the year 2020?\",\n",
       " 'Can you provide the revenue figures for BMW in 2017?',\n",
       " \"What key economic factors influenced Ford's performance in 2021?\",\n",
       " 'Which Tesla product is currently in the development stage?',\n",
       " \"What were BMW's profit figures for 2020 and 2023?\",\n",
       " 'Between Tesla and Ford, which company achieved higher profits in 2022?',\n",
       " \"What were Tesla's profit numbers for 2022 and 2023?\",\n",
       " 'Which company recorded better profitability in 2022 overall?',\n",
       " 'Provide a summary of revenue figures for Tesla, BMW, and Ford over the past three years.',\n",
       " \"What were the growth trends for BMW's financial performance from 2020 to 2023?\"]"
      ]
     },
     "execution_count": 2,
     "metadata": {},
     "output_type": "execute_result"
    }
   ],
   "source": [
    "questions"
   ]
  },
  {
   "cell_type": "code",
   "execution_count": 3,
   "metadata": {},
   "outputs": [
    {
     "name": "stdout",
     "output_type": "stream",
     "text": [
      "MPS is available.\n"
     ]
    },
    {
     "name": "stderr",
     "output_type": "stream",
     "text": [
      "Loading checkpoint shards: 100%|██████████| 2/2 [00:01<00:00,  1.61it/s]\n",
      "/Users/vlacerda/Documents/CodeRepos/ConsigliCase/vlm.py:52: FutureWarning: You are using `torch.load` with `weights_only=False` (the current default value), which uses the default pickle module implicitly. It is possible to construct malicious pickle data which will execute arbitrary code during unpickling (See https://github.com/pytorch/pytorch/blob/main/SECURITY.md#untrusted-models for more details). In a future release, the default value for `weights_only` will be flipped to `True`. This limits the functions that could be executed during unpickling. Arbitrary objects will no longer be allowed to be loaded via this mode unless they are explicitly allowlisted by the user via `torch.serialization.add_safe_globals`. We recommend you start setting `weights_only=True` for any use case where you don't have full control of the loaded file. Please open an issue on GitHub for any issues related to this experimental feature.\n",
      "  docs_embs = torch.load(emb_path)\n"
     ]
    }
   ],
   "source": [
    "retrieval_model = Retriever(get_device(), config_dict=config_dict)\n",
    "chatbot = GenerationModel(retrieval_model, config_dict)"
   ]
  },
  {
   "cell_type": "code",
   "execution_count": 4,
   "metadata": {},
   "outputs": [
    {
     "name": "stdout",
     "output_type": "stream",
     "text": [
      "Retrieving documents...\n",
      "\n",
      "Where was Ford incorporated?\n",
      "top_k_sim_idcs: tensor([[322]])\n",
      "top_k_sim_idcs_type: <class 'torch.Tensor'>\n",
      "retrieved_docs: ['./Data/Images/Ford_Annual_Report_2021.pdf_page_1.png']\n",
      "type retrieved_docs: <class 'list'>\n"
     ]
    }
   ],
   "source": [
    "answer = []\n",
    "for chunk in chatbot.stream_rag_interact('Where was Ford incorporated?'):\n",
    "    answer.append(chunk)"
   ]
  },
  {
   "cell_type": "code",
   "execution_count": null,
   "metadata": {},
   "outputs": [],
   "source": [
    "answer2 = []\n",
    "for chunk in chatbot.full_blown_rag('What was BMWs total revenue in 2023?'):\n",
    "    answer.append(chunk)"
   ]
  },
  {
   "cell_type": "code",
   "execution_count": null,
   "metadata": {},
   "outputs": [],
   "source": []
  }
 ],
 "metadata": {
  "kernelspec": {
   "display_name": "consigli",
   "language": "python",
   "name": "python3"
  },
  "language_info": {
   "codemirror_mode": {
    "name": "ipython",
    "version": 3
   },
   "file_extension": ".py",
   "mimetype": "text/x-python",
   "name": "python",
   "nbconvert_exporter": "python",
   "pygments_lexer": "ipython3",
   "version": "3.12.8"
  }
 },
 "nbformat": 4,
 "nbformat_minor": 2
}
